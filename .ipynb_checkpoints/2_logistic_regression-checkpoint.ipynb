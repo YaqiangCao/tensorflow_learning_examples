{
 "cells": [
  {
   "cell_type": "markdown",
   "metadata": {},
   "source": [
    "# Logistic Regression Example"
   ]
  },
  {
   "cell_type": "code",
   "execution_count": 3,
   "metadata": {},
   "outputs": [],
   "source": [
    "import os\n",
    "import pylab\n",
    "import numpy as np\n",
    "import seaborn as sns\n",
    "import tensorflow as tf"
   ]
  },
  {
   "cell_type": "code",
   "execution_count": 4,
   "metadata": {},
   "outputs": [],
   "source": [
    "#global settings\n",
    "os.environ[\"CUDA_DEVICE_ORDER\"] = \"PCI_BUS_ID\"\n",
    "#only using CPU, set 1,2,3 to it to use GPU, if remove this, using all GPUs\n",
    "os.environ[\"CUDA_VISIBLE_DEVICES\"] = \"\"\n",
    "os.environ['TF_CPP_MIN_LOG_LEVEL']='3'"
   ]
  },
  {
   "cell_type": "code",
   "execution_count": 6,
   "metadata": {},
   "outputs": [
    {
     "name": "stdout",
     "output_type": "stream",
     "text": [
      "Successfully downloaded train-images-idx3-ubyte.gz 9912422 bytes.\n",
      "Extracting /tmp/data/train-images-idx3-ubyte.gz\n",
      "Successfully downloaded train-labels-idx1-ubyte.gz 28881 bytes.\n",
      "Extracting /tmp/data/train-labels-idx1-ubyte.gz\n",
      "Successfully downloaded t10k-images-idx3-ubyte.gz 1648877 bytes.\n",
      "Extracting /tmp/data/t10k-images-idx3-ubyte.gz\n",
      "Successfully downloaded t10k-labels-idx1-ubyte.gz 4542 bytes.\n",
      "Extracting /tmp/data/t10k-labels-idx1-ubyte.gz\n"
     ]
    }
   ],
   "source": [
    "#import MNIST data\n",
    "from tensorflow.examples.tutorials.mnist import input_data\n",
    "mnist = input_data.read_data_sets(\"/tmp/data/\",one_hot=True)"
   ]
  },
  {
   "cell_type": "code",
   "execution_count": 28,
   "metadata": {},
   "outputs": [
    {
     "name": "stdout",
     "output_type": "stream",
     "text": [
      "(55000, 784) (55000, 10)\n",
      "(28, 28)\n"
     ]
    },
    {
     "data": {
      "image/png": "[encoded data removed]",
      "text/plain": [
       "<matplotlib.figure.Figure at 0x1172bf290>"
      ]
     },
     "metadata": {},
     "output_type": "display_data"
    },
    {
     "name": "stdout",
     "output_type": "stream",
     "text": [
      "[ 0.  0.  0.  1.  0.  0.  0.  0.  0.  0.]\n"
     ]
    }
   ],
   "source": [
    "#show example of the data, and mnist data image of shape 28*28=784, so total 55000 trainning samples\n",
    "print mnist.train.images.shape, mnist.train.labels.shape\n",
    "#show one image \n",
    "mat = np.reshape(mnist.train.images[1],(28,28))\n",
    "print mat.shape\n",
    "pylab.imshow(mat,cmap=None,aspect=\"equal\",norm=None)\n",
    "pylab.show()\n",
    "#show the label\n",
    "print mnist.train.labels[1]"
   ]
  },
  {
   "cell_type": "code",
   "execution_count": 56,
   "metadata": {},
   "outputs": [],
   "source": [
    "#parameters\n",
    "learning_rate = 0.01\n",
    "epochs = 25\n",
    "batch_size = 100\n",
    "step = 1"
   ]
  },
  {
   "cell_type": "code",
   "execution_count": 57,
   "metadata": {},
   "outputs": [],
   "source": [
    "#tf required setting \n",
    "x = tf.placeholder(tf.float32,[None,784]) \n",
    "y = tf.placeholder(tf.float32,[None,10])\n",
    "#tf learning parameters\n",
    "w = tf.Variable(tf.zeros([784,10]),name=\"weight\")\n",
    "b = tf.Variable(tf.zeros([10]),name=\"bias\")"
   ]
  },
  {
   "cell_type": "code",
   "execution_count": 58,
   "metadata": {},
   "outputs": [],
   "source": [
    "#a logistic model\n",
    "pred = tf.nn.softmax(tf.matmul(x,w)+b)\n",
    "#cross entropy\n",
    "cost = tf.reduce_mean(-tf.reduce_sum(y*tf.log(pred),reduction_indices=1))\n",
    "#gradient descent\n",
    "optimizer = tf.train.GradientDescentOptimizer(learning_rate).minimize(cost)"
   ]
  },
  {
   "cell_type": "code",
   "execution_count": 66,
   "metadata": {},
   "outputs": [
    {
     "name": "stdout",
     "output_type": "stream",
     "text": [
      "Epoch:0,cost:1.18349783074\n",
      "Epoch:1,cost:0.66560047724\n",
      "Epoch:2,cost:0.552487247911\n",
      "Epoch:3,cost:0.498436876915\n",
      "Epoch:4,cost:0.465703461441\n",
      "Epoch:5,cost:0.443041580319\n",
      "Epoch:6,cost:0.425180451138\n",
      "Epoch:7,cost:0.411762710566\n",
      "Epoch:8,cost:0.401830348725\n",
      "Epoch:9,cost:0.39213351629\n",
      "Epoch:10,cost:0.38476036424\n",
      "Epoch:11,cost:0.37823477615\n",
      "Epoch:12,cost:0.372497013807\n",
      "Epoch:13,cost:0.367144414295\n",
      "Epoch:14,cost:0.363504491313\n",
      "Epoch:15,cost:0.357869479385\n",
      "Epoch:16,cost:0.354687645598\n",
      "Epoch:17,cost:0.351777666021\n",
      "Epoch:18,cost:0.348611854125\n",
      "Epoch:19,cost:0.344943331236\n",
      "Epoch:20,cost:0.342407804484\n",
      "Epoch:21,cost:0.340370792611\n",
      "Epoch:22,cost:0.338305108114\n",
      "Epoch:23,cost:0.335678886419\n",
      "Epoch:24,cost:0.333841233172\n",
      "Optimization Finished\n",
      "accuracy:\n"
     ]
    }
   ],
   "source": [
    "#tf graph for running\n",
    "total_batch = int(mnist.train.num_examples/batch_size)\n",
    "init = tf.global_variables_initializer()\n",
    "with tf.Session() as sess:\n",
    "    sess.run(init)\n",
    "    for epoch in xrange(epochs):\n",
    "        avg_cost = 0.0        \n",
    "        #loop over all batches\n",
    "        for i in xrange(total_batch):\n",
    "            batch_xs,batch_ys = mnist.train.next_batch(batch_size)\n",
    "            o,c = sess.run([optimizer,cost],feed_dict={x:batch_xs,y:batch_ys})\n",
    "            avg_cost += c\n",
    "        avg_cost = avg_cost / total_batch\n",
    "        if epoch % step == 0:\n",
    "            print(\"Epoch:%s,cost:%s\"%(epoch,avg_cost))\n",
    "    \n",
    "    print \"Optimization Finished\"\n",
    "    \n",
    "    #test model \n",
    "    #yp = sess.run(pred,feed_dict={x:mnist.test.images})\n",
    "    cp = tf.equal(tf.argmax(pred,1),tf.argmax(y,1))\n",
    "    accuracy = tf.reduce_mean(tf.cast(cp,tf.float32))\n",
    "    r = sess.run(accuracy,feed_dict={x:mnist.test.images,y:mnist.test.labels})\n",
    "    print \"accuracy:%s\"%r"
   ]
  },
  {
   "cell_type": "code",
   "execution_count": null,
   "metadata": {},
   "outputs": [],
   "source": []
  }
 ],
 "metadata": {
  "kernelspec": {
   "display_name": "Python 2",
   "language": "python",
   "name": "python2"
  },
  "language_info": {
   "codemirror_mode": {
    "name": "ipython",
    "version": 2
   },
   "file_extension": ".py",
   "mimetype": "text/x-python",
   "name": "python",
   "nbconvert_exporter": "python",
   "pygments_lexer": "ipython2",
   "version": "2.7.10"
  }
 },
 "nbformat": 4,
 "nbformat_minor": 2
}

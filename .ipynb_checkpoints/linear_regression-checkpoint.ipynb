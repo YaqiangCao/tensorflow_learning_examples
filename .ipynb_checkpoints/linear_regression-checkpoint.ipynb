{
 "cells": [
  {
   "cell_type": "markdown",
   "metadata": {},
   "source": [
    "# Linear Regression Examples"
   ]
  },
  {
   "cell_type": "code",
   "execution_count": 10,
   "metadata": {},
   "outputs": [],
   "source": [
    "import pylab\n",
    "import tensorflow as tf\n",
    "import numpy as np"
   ]
  },
  {
   "cell_type": "code",
   "execution_count": 3,
   "metadata": {},
   "outputs": [],
   "source": [
    "#parameters\n",
    "learning_rate = 0.1\n",
    "epochs = 1000 \n",
    "step = 50"
   ]
  },
  {
   "cell_type": "code",
   "execution_count": 27,
   "metadata": {},
   "outputs": [
    {
     "data": {
      "image/png": "[encoded data removed]",
      "text/plain": [
       "<matplotlib.figure.Figure at 0x11be7fb10>"
      ]
     },
     "metadata": {},
     "output_type": "display_data"
    }
   ],
   "source": [
    "#test data\n",
    "X = np.linspace(0,1,100)\n",
    "noise = np.random.random(100)\n",
    "y = 2*X + noise\n",
    "n = X.shape[0]\n",
    "#show the data\n",
    "pylab.scatter(X,y)\n",
    "pylab.show()"
   ]
  },
  {
   "cell_type": "code",
   "execution_count": 16,
   "metadata": {},
   "outputs": [],
   "source": [
    "#tf required setting \n",
    "tf_X = tf.placeholder(\"float\")\n",
    "tf_y = tf.placeholder(\"float\")\n",
    "#tf learning parameters\n",
    "w = tf.Variable(np.random.random(),name=\"weight\")\n",
    "b = tf.Variable(np.random.random(),name=\"bias\")"
   ]
  },
  {
   "cell_type": "code",
   "execution_count": 17,
   "metadata": {},
   "outputs": [],
   "source": [
    "#a linear model\n",
    "pred = tf.add(tf.multiply(tf_X,w),b)\n",
    "cost = tf.reduce_sum(tf.pow(pred-tf_y,2)) / (2*n)\n",
    "optimizer = tf.train.GradientDescentOptimizer(learning_rate).minimize(cost)"
   ]
  },
  {
   "cell_type": "code",
   "execution_count": 28,
   "metadata": {},
   "outputs": [
    {
     "name": "stdout",
     "output_type": "stream",
     "text": [
      "Epoch:0,cost:52.1154,w:0.581671,b:1.74841\n",
      "Epoch:50,cost:9.85211,w:1.70765,b:0.64019\n",
      "Epoch:100,cost:9.85211,w:1.70765,b:0.64019\n",
      "Epoch:150,cost:9.85211,w:1.70765,b:0.64019\n",
      "Epoch:200,cost:9.85211,w:1.70765,b:0.64019\n",
      "Epoch:250,cost:9.85211,w:1.70765,b:0.64019\n",
      "Epoch:300,cost:9.85211,w:1.70765,b:0.64019\n",
      "Epoch:350,cost:9.85211,w:1.70765,b:0.64019\n",
      "Epoch:400,cost:9.85211,w:1.70765,b:0.64019\n",
      "Epoch:450,cost:9.85211,w:1.70765,b:0.64019\n",
      "Epoch:500,cost:9.85211,w:1.70765,b:0.64019\n",
      "Epoch:550,cost:9.85211,w:1.70765,b:0.64019\n",
      "Epoch:600,cost:9.85211,w:1.70765,b:0.64019\n",
      "Epoch:650,cost:9.85211,w:1.70765,b:0.64019\n",
      "Epoch:700,cost:9.85211,w:1.70765,b:0.64019\n",
      "Epoch:750,cost:9.85211,w:1.70765,b:0.64019\n",
      "Epoch:800,cost:9.85211,w:1.70765,b:0.64019\n",
      "Epoch:850,cost:9.85211,w:1.70765,b:0.64019\n",
      "Epoch:900,cost:9.85211,w:1.70765,b:0.64019\n",
      "Epoch:950,cost:9.85211,w:1.70765,b:0.64019\n",
      "()\n",
      "Optimization finished!\n",
      "Epoch:999,cost:9.85211,w:1.70765,b:0.64019\n"
     ]
    },
    {
     "data": {
      "image/png": "[encoded data removed]",
      "text/plain": [
       "<matplotlib.figure.Figure at 0x11c1d3150>"
      ]
     },
     "metadata": {},
     "output_type": "display_data"
    }
   ],
   "source": [
    "#tf graph for running\n",
    "init = tf.global_variables_initializer()\n",
    "with tf.Session() as sess:\n",
    "    sess.run(init)\n",
    "    for epoch in xrange(epochs):\n",
    "        for (nx,ny) in zip (X,y):\n",
    "            sess.run(optimizer,feed_dict={tf_X:nx,tf_y:ny})\n",
    "        if epoch % step == 0:\n",
    "            c = sess.run(cost,feed_dict={tf_X:X,tf_y:y})\n",
    "            print(\"Epoch:%s,cost:%s,w:%s,b:%s\"%(epoch,c,sess.run(w),sess.run(b)))\n",
    "            pylab.plot(X,y,\"ro\",label=\"raw\")\n",
    "            pylab.plot(X,sess.run(w)*X+sess.run(b),label=\"fitting curves\")\n",
    "            pylab.legend()\n",
    "            pylab.show()"
   ]
  },
  {
   "cell_type": "code",
   "execution_count": null,
   "metadata": {},
   "outputs": [],
   "source": []
  }
 ],
 "metadata": {
  "kernelspec": {
   "display_name": "Python 2",
   "language": "python",
   "name": "python2"
  },
  "language_info": {
   "codemirror_mode": {
    "name": "ipython",
    "version": 2
   },
   "file_extension": ".py",
   "mimetype": "text/x-python",
   "name": "python",
   "nbconvert_exporter": "python",
   "pygments_lexer": "ipython2",
   "version": "2.7.10"
  }
 },
 "nbformat": 4,
 "nbformat_minor": 2
}

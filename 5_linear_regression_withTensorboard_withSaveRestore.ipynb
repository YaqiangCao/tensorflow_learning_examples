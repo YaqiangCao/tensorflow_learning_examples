{
 "cells": [
  {
   "cell_type": "markdown",
   "metadata": {},
   "source": [
    "# simple linear regression model with Tensorboard and model save or restore"
   ]
  },
  {
   "cell_type": "code",
   "execution_count": 1,
   "metadata": {},
   "outputs": [],
   "source": [
    "import os\n",
    "import pylab\n",
    "import numpy as np\n",
    "import seaborn as sns\n",
    "import tensorflow as tf"
   ]
  },
  {
   "cell_type": "code",
   "execution_count": 2,
   "metadata": {},
   "outputs": [],
   "source": [
    "#global settings\n",
    "os.environ[\"CUDA_DEVICE_ORDER\"] = \"PCI_BUS_ID\"\n",
    "#only using CPU, set 1,2,3 to it to use GPU, if remove this, using all GPUs\n",
    "os.environ[\"CUDA_VISIBLE_DEVICES\"] = \"\"\n",
    "os.environ['TF_CPP_MIN_LOG_LEVEL']='3'"
   ]
  },
  {
   "cell_type": "code",
   "execution_count": 3,
   "metadata": {},
   "outputs": [],
   "source": [
    "#test data\n",
    "X = np.linspace(0,1,100)\n",
    "noise = np.random.random(100)*0.5\n",
    "y = 0.8*X + 0.5 + noise \n",
    "n = X.shape[0]"
   ]
  },
  {
   "cell_type": "code",
   "execution_count": 4,
   "metadata": {},
   "outputs": [],
   "source": [
    "#parameters\n",
    "learning_rate = 0.1\n",
    "epochs = 500 \n",
    "step = 100\n",
    "#loger path\n",
    "log_path = \"./logs/\"\n",
    "#model save and restore path, ckpt is it's specific file type\n",
    "model_path = \"./logs/linearRegression.ckpt\""
   ]
  },
  {
   "cell_type": "code",
   "execution_count": 5,
   "metadata": {},
   "outputs": [],
   "source": [
    "#tf required setting \n",
    "tf_X = tf.placeholder(\"float\",name=\"X\")\n",
    "tf_y = tf.placeholder(\"float\",name=\"y\")\n",
    "#tf learning parameters\n",
    "w = tf.Variable(np.random.random(),name=\"weight\")\n",
    "b = tf.Variable(np.random.random(),name=\"bias\")"
   ]
  },
  {
   "cell_type": "code",
   "execution_count": 6,
   "metadata": {},
   "outputs": [],
   "source": [
    "#a linear model name filed definitation \n",
    "with tf.name_scope(\"model\"):\n",
    "    pred = tf.add(tf.multiply(tf_X,w),b)\n",
    "with tf.name_scope(\"loss\"):\n",
    "    cost = tf.reduce_sum(tf.pow(pred-tf_y,2)) / (2*n)\n",
    "with tf.name_scope(\"SGD\"):\n",
    "    optimizer = tf.train.GradientDescentOptimizer(learning_rate).minimize(cost)"
   ]
  },
  {
   "cell_type": "code",
   "execution_count": 7,
   "metadata": {},
   "outputs": [],
   "source": [
    "#pre-setting as tensorboard & save\n",
    "init = tf.global_variables_initializer()\n",
    "#log\n",
    "tf.summary.scalar(\"loss\",cost)\n",
    "merged_summary_op = tf.summary.merge_all()\n",
    "#saver to save and restore all the variables\n",
    "saver = tf.train.Saver()"
   ]
  },
  {
   "cell_type": "code",
   "execution_count": 8,
   "metadata": {},
   "outputs": [
    {
     "name": "stdout",
     "output_type": "stream",
     "text": [
      "1st session\n",
      "Epoch:0,cost:0.0290324,w:0.724061,b:0.597317\n",
      "Epoch:100,cost:0.00998632,w:0.806444,b:0.749691\n",
      "Epoch:200,cost:0.00998611,w:0.807385,b:0.749177\n",
      "Model saved in ./logs/linearRegression.ckpt\n"
     ]
    }
   ],
   "source": [
    "#tensorflow running \n",
    "print \"1st session\"\n",
    "with tf.Session() as sess:\n",
    "    sess.run(init)\n",
    "    #log system\n",
    "    summary_writer = tf.summary.FileWriter(log_path,graph=tf.get_default_graph())\n",
    "    \n",
    "    for epoch in xrange(250):\n",
    "        for (nx,ny) in zip (X,y):\n",
    "            sess.run(optimizer,feed_dict={tf_X:nx,tf_y:ny})\n",
    "        if epoch % step == 0:\n",
    "            c,summary = sess.run([cost,merged_summary_op],feed_dict={tf_X:X,tf_y:y})\n",
    "            s = \"Epoch:%s,cost:%s,w:%s,b:%s\"%(epoch,c,sess.run(w),sess.run(b))\n",
    "            print s\n",
    "        #log system\n",
    "        summary_writer.add_summary(summary,epoch)\n",
    "    save_path = saver.save(sess,model_path)\n",
    "    print \"Model saved in %s\"%save_path"
   ]
  },
  {
   "cell_type": "code",
   "execution_count": 9,
   "metadata": {},
   "outputs": [
    {
     "name": "stdout",
     "output_type": "stream",
     "text": [
      "2st session\n",
      "INFO:tensorflow:Restoring parameters from ./logs/linearRegression.ckpt\n",
      "Model restored from ./logs/linearRegression.ckpt\n",
      "Epoch:300,cost:0.00998604,w:0.807863,b:0.748915\n",
      "Epoch:400,cost:0.00998601,w:0.808109,b:0.74878\n",
      "Model saved in ./logs/linearRegression.ckpt again\n"
     ]
    }
   ],
   "source": [
    "#a new session to restore the model and keep running\n",
    "print \"2st session\"\n",
    "with tf.Session() as sess:\n",
    "    sess.run(init)\n",
    "    #log system\n",
    "    summary_writer = tf.summary.FileWriter(log_path,graph=tf.get_default_graph())\n",
    "    #restore model\n",
    "    load_path = saver.restore(sess,model_path)\n",
    "    print \"Model restored from %s\"%save_path\n",
    "    for epoch in xrange(250,epochs):\n",
    "        for (nx,ny) in zip (X,y):\n",
    "            sess.run(optimizer,feed_dict={tf_X:nx,tf_y:ny})\n",
    "        if epoch % step == 0:\n",
    "            c,summary = sess.run([cost,merged_summary_op],feed_dict={tf_X:X,tf_y:y})\n",
    "            s = \"Epoch:%s,cost:%s,w:%s,b:%s\"%(epoch,c,sess.run(w),sess.run(b))\n",
    "            print s\n",
    "        #log system\n",
    "        summary_writer.add_summary(summary,epoch)\n",
    "    save_path = saver.save(sess,model_path)\n",
    "    print \"Model saved in %s again\"%save_path"
   ]
  },
  {
   "cell_type": "code",
   "execution_count": 10,
   "metadata": {},
   "outputs": [
    {
     "name": "stdout",
     "output_type": "stream",
     "text": [
      "3st session\n",
      "INFO:tensorflow:Restoring parameters from ./logs/linearRegression.ckpt\n",
      "Model restored from ./logs/linearRegression.ckpt again\n",
      "Finish the new prediction\n"
     ]
    }
   ],
   "source": [
    "#use the mode\n",
    "print \"3st session\"\n",
    "nX = np.linspace(0.5,0.8,30)\n",
    "noise = np.random.random(30)*0.6\n",
    "ny = 0.8*nX + 0.5 + noise\n",
    "with tf.Session() as sess:\n",
    "    sess.run(init)\n",
    "    load_path = saver.restore(sess,model_path)\n",
    "    print \"Model restored from %s again\"%save_path\n",
    "    nyp,c = sess.run([pred,cost],feed_dict={tf_X:nX,tf_y:ny})\n",
    "    print \"Finish the new prediction\""
   ]
  },
  {
   "cell_type": "code",
   "execution_count": 11,
   "metadata": {},
   "outputs": [
    {
     "data": {
      "image/png": "[encoded data removed]",
      "text/plain": [
       "<matplotlib.figure.Figure at 0x112c98d90>"
      ]
     },
     "metadata": {},
     "output_type": "display_data"
    }
   ],
   "source": [
    "#show the raw and second batch data \n",
    "fig,ax = pylab.subplots()\n",
    "ax.plot(X,y,\"ro\",label=\"learning data\")\n",
    "ax.plot(nX,ny,\"b*\",label=\"test data\")\n",
    "ax.plot(nX,nyp,\"k\",label=\"prediction model\")\n",
    "ax.legend()\n",
    "pylab.show()"
   ]
  },
  {
   "cell_type": "code",
   "execution_count": null,
   "metadata": {},
   "outputs": [],
   "source": []
  }
 ],
 "metadata": {
  "kernelspec": {
   "display_name": "Python 2",
   "language": "python",
   "name": "python2"
  },
  "language_info": {
   "codemirror_mode": {
    "name": "ipython",
    "version": 2
   },
   "file_extension": ".py",
   "mimetype": "text/x-python",
   "name": "python",
   "nbconvert_exporter": "python",
   "pygments_lexer": "ipython2",
   "version": "2.7.10"
  }
 },
 "nbformat": 4,
 "nbformat_minor": 2
}

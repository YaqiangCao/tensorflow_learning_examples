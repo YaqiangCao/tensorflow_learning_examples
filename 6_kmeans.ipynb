{
 "cells": [
  {
   "cell_type": "markdown",
   "metadata": {},
   "source": [
    "# K-Means example"
   ]
  },
  {
   "cell_type": "markdown",
   "metadata": {},
   "source": [
    "这个例子的意义并不是很大"
   ]
  },
  {
   "cell_type": "code",
   "execution_count": 2,
   "metadata": {},
   "outputs": [],
   "source": [
    "import os\n",
    "import pylab\n",
    "import numpy as np\n",
    "import seaborn as sns\n",
    "import tensorflow as tf\n",
    "from __future__ import print_function\n",
    "from tensorflow.contrib.factorization import KMeans"
   ]
  },
  {
   "cell_type": "code",
   "execution_count": 3,
   "metadata": {},
   "outputs": [],
   "source": [
    "#global settings\n",
    "os.environ[\"CUDA_DEVICE_ORDER\"] = \"PCI_BUS_ID\"\n",
    "#only using CPU, set 1,2,3 to it to use GPU, if remove this, using all GPUs\n",
    "os.environ[\"CUDA_VISIBLE_DEVICES\"] = \"\"\n",
    "os.environ['TF_CPP_MIN_LOG_LEVEL']='3'"
   ]
  },
  {
   "cell_type": "code",
   "execution_count": 4,
   "metadata": {},
   "outputs": [
    {
     "name": "stdout",
     "output_type": "stream",
     "text": [
      "Extracting /tmp/data/train-images-idx3-ubyte.gz\n",
      "Extracting /tmp/data/train-labels-idx1-ubyte.gz\n",
      "Extracting /tmp/data/t10k-images-idx3-ubyte.gz\n",
      "Extracting /tmp/data/t10k-labels-idx1-ubyte.gz\n"
     ]
    }
   ],
   "source": [
    "#import MNIST data\n",
    "from tensorflow.examples.tutorials.mnist import input_data\n",
    "mnist = input_data.read_data_sets(\"/tmp/data/\",one_hot=True)\n",
    "full_data_x = mnist.train.images"
   ]
  },
  {
   "cell_type": "code",
   "execution_count": 7,
   "metadata": {},
   "outputs": [],
   "source": [
    "#parameters\n",
    "num_steps = 50\n",
    "batch_size = 1024 \n",
    "k = 25 #number of clusters, why?\n",
    "num_classes = 10 \n",
    "num_features = 784 \n",
    "\n",
    "#tf requried variables\n",
    "X = tf.placeholder(tf.float32,shape=[None,num_features])\n",
    "Y = tf.placeholder(tf.float32,shape=[None,num_classes])\n",
    "\n",
    "#kmeans parameters\n",
    "kmeans = KMeans(inputs=X,num_clusters=k,distance_metric=\"cosine\",use_mini_batch=True)"
   ]
  },
  {
   "cell_type": "code",
   "execution_count": 8,
   "metadata": {},
   "outputs": [],
   "source": [
    "#build KMeans graph \n",
    "(all_scores,cluster_idx,scores,cluster_centers_initialized,init_op,train_op) = kmeans.training_graph()\n",
    "cluster_idx = cluster_idx[0]\n",
    "avg_distance = tf.reduce_mean(scores)"
   ]
  },
  {
   "cell_type": "code",
   "execution_count": 16,
   "metadata": {},
   "outputs": [
    {
     "name": "stdout",
     "output_type": "stream",
     "text": [
      "Step 1, Avg Distance:0.341471\n",
      "Step 10, Avg Distance:0.221609\n",
      "Step 20, Avg Distance:0.220328\n",
      "Step 30, Avg Distance:0.219776\n",
      "Step 40, Avg Distance:0.219419\n",
      "Step 50, Avg Distance:0.219154\n",
      "Test accuracy: 0.7127\n"
     ]
    }
   ],
   "source": [
    "#tf graph \n",
    "init = tf.global_variables_initializer()\n",
    "with tf.Session() as sess:\n",
    "    sess.run(init,feed_dict={X:full_data_x})\n",
    "    sess.run(init_op,feed_dict={X:full_data_x})\n",
    "    #trainning \n",
    "    for i in xrange(1,num_steps+1):\n",
    "        _,d,idx = sess.run([train_op,avg_distance,cluster_idx],feed_dict={X:full_data_x})\n",
    "        if i % 10 == 0 or i ==1:\n",
    "            print(\"Step %s, Avg Distance:%f\"%(i,d))\n",
    "    #assign a label to each centroid \n",
    "    counts = np.zeros((k,num_classes))\n",
    "    for i in range(len(idx)):\n",
    "        counts[idx[i]] += mnist.train.labels[i]\n",
    "    labels_map = [np.argmax(c) for c in counts]\n",
    "    labels_map = tf.convert_to_tensor(labels_map)\n",
    "\n",
    "    #evaluation ops\n",
    "    cluster_label = tf.nn.embedding_lookup(labels_map,cluster_idx)\n",
    "    cp = tf.equal(cluster_label,tf.cast(tf.argmax(Y,1),tf.int32))\n",
    "    aop = tf.reduce_mean(tf.cast(cp,tf.float32))\n",
    "    test_x,test_y = mnist.test.images, mnist.test.labels\n",
    "    print(\"Test accuracy: %s\"%sess.run(aop,feed_dict={X:test_x,Y:test_y}))"
   ]
  },
  {
   "cell_type": "code",
   "execution_count": null,
   "metadata": {},
   "outputs": [],
   "source": []
  }
 ],
 "metadata": {
  "kernelspec": {
   "display_name": "Python 2",
   "language": "python",
   "name": "python2"
  },
  "language_info": {
   "codemirror_mode": {
    "name": "ipython",
    "version": 2
   },
   "file_extension": ".py",
   "mimetype": "text/x-python",
   "name": "python",
   "nbconvert_exporter": "python",
   "pygments_lexer": "ipython2",
   "version": "2.7.10"
  }
 },
 "nbformat": 4,
 "nbformat_minor": 2
}
